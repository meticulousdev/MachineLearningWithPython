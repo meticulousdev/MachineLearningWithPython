{
 "cells": [
  {
   "cell_type": "markdown",
   "metadata": {},
   "source": [
    "# 2. 머신러닝 맛보기1: 분류문제"
   ]
  },
  {
   "cell_type": "code",
   "execution_count": null,
   "metadata": {},
   "outputs": [],
   "source": []
  }
 ],
 "metadata": {
  "interpreter": {
   "hash": "1e329751ad3fbc78699a5e88abe00d39aafe605dca43acf9894240e004a03697"
  },
  "kernelspec": {
   "display_name": "Python 3.9.7 64-bit ('tf26': conda)",
   "language": "python",
   "name": "python3"
  },
  "language_info": {
   "name": "python",
   "version": "3.9.7"
  },
  "orig_nbformat": 4
 },
 "nbformat": 4,
 "nbformat_minor": 2
}
